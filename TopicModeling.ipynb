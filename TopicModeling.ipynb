{
 "cells": [
  {
   "cell_type": "code",
   "execution_count": 1,
   "id": "bc8d8177",
   "metadata": {},
   "outputs": [
    {
     "name": "stdout",
     "output_type": "stream",
     "text": [
      "Requirement already satisfied: numpy in c:\\users\\chris\\miniconda3\\envs\\udla-ia\\lib\\site-packages (2.0.1)\n",
      "Requirement already satisfied: pandas in c:\\users\\chris\\miniconda3\\envs\\udla-ia\\lib\\site-packages (2.3.3)\n",
      "Requirement already satisfied: numpy>=1.26.0 in c:\\users\\chris\\miniconda3\\envs\\udla-ia\\lib\\site-packages (from pandas) (2.0.1)\n",
      "Requirement already satisfied: python-dateutil>=2.8.2 in c:\\users\\chris\\miniconda3\\envs\\udla-ia\\lib\\site-packages (from pandas) (2.9.0.post0)\n",
      "Requirement already satisfied: pytz>=2020.1 in c:\\users\\chris\\miniconda3\\envs\\udla-ia\\lib\\site-packages (from pandas) (2025.2)\n",
      "Requirement already satisfied: tzdata>=2022.7 in c:\\users\\chris\\miniconda3\\envs\\udla-ia\\lib\\site-packages (from pandas) (2025.2)\n",
      "Requirement already satisfied: six>=1.5 in c:\\users\\chris\\miniconda3\\envs\\udla-ia\\lib\\site-packages (from python-dateutil>=2.8.2->pandas) (1.17.0)\n",
      "Requirement already satisfied: matplotlib in c:\\users\\chris\\miniconda3\\envs\\udla-ia\\lib\\site-packages (3.10.6)\n",
      "Requirement already satisfied: contourpy>=1.0.1 in c:\\users\\chris\\miniconda3\\envs\\udla-ia\\lib\\site-packages (from matplotlib) (1.3.1)\n",
      "Requirement already satisfied: cycler>=0.10 in c:\\users\\chris\\miniconda3\\envs\\udla-ia\\lib\\site-packages (from matplotlib) (0.11.0)\n",
      "Requirement already satisfied: fonttools>=4.22.0 in c:\\users\\chris\\miniconda3\\envs\\udla-ia\\lib\\site-packages (from matplotlib) (4.60.1)\n",
      "Requirement already satisfied: kiwisolver>=1.3.1 in c:\\users\\chris\\miniconda3\\envs\\udla-ia\\lib\\site-packages (from matplotlib) (1.4.8)\n",
      "Requirement already satisfied: numpy>=1.23 in c:\\users\\chris\\miniconda3\\envs\\udla-ia\\lib\\site-packages (from matplotlib) (2.0.1)\n",
      "Requirement already satisfied: packaging>=20.0 in c:\\users\\chris\\miniconda3\\envs\\udla-ia\\lib\\site-packages (from matplotlib) (25.0)\n",
      "Requirement already satisfied: pillow>=8 in c:\\users\\chris\\miniconda3\\envs\\udla-ia\\lib\\site-packages (from matplotlib) (11.1.0)\n",
      "Requirement already satisfied: pyparsing>=2.3.1 in c:\\users\\chris\\miniconda3\\envs\\udla-ia\\lib\\site-packages (from matplotlib) (3.2.0)\n",
      "Requirement already satisfied: python-dateutil>=2.7 in c:\\users\\chris\\miniconda3\\envs\\udla-ia\\lib\\site-packages (from matplotlib) (2.9.0.post0)\n",
      "Requirement already satisfied: six>=1.5 in c:\\users\\chris\\miniconda3\\envs\\udla-ia\\lib\\site-packages (from python-dateutil>=2.7->matplotlib) (1.17.0)\n",
      "Requirement already satisfied: seaborn in c:\\users\\chris\\miniconda3\\envs\\udla-ia\\lib\\site-packages (0.13.2)\n",
      "Requirement already satisfied: numpy!=1.24.0,>=1.20 in c:\\users\\chris\\miniconda3\\envs\\udla-ia\\lib\\site-packages (from seaborn) (2.0.1)\n",
      "Requirement already satisfied: pandas>=1.2 in c:\\users\\chris\\miniconda3\\envs\\udla-ia\\lib\\site-packages (from seaborn) (2.3.3)\n",
      "Requirement already satisfied: matplotlib!=3.6.1,>=3.4 in c:\\users\\chris\\miniconda3\\envs\\udla-ia\\lib\\site-packages (from seaborn) (3.10.6)\n",
      "Requirement already satisfied: contourpy>=1.0.1 in c:\\users\\chris\\miniconda3\\envs\\udla-ia\\lib\\site-packages (from matplotlib!=3.6.1,>=3.4->seaborn) (1.3.1)\n",
      "Requirement already satisfied: cycler>=0.10 in c:\\users\\chris\\miniconda3\\envs\\udla-ia\\lib\\site-packages (from matplotlib!=3.6.1,>=3.4->seaborn) (0.11.0)\n",
      "Requirement already satisfied: fonttools>=4.22.0 in c:\\users\\chris\\miniconda3\\envs\\udla-ia\\lib\\site-packages (from matplotlib!=3.6.1,>=3.4->seaborn) (4.60.1)\n",
      "Requirement already satisfied: kiwisolver>=1.3.1 in c:\\users\\chris\\miniconda3\\envs\\udla-ia\\lib\\site-packages (from matplotlib!=3.6.1,>=3.4->seaborn) (1.4.8)\n",
      "Requirement already satisfied: packaging>=20.0 in c:\\users\\chris\\miniconda3\\envs\\udla-ia\\lib\\site-packages (from matplotlib!=3.6.1,>=3.4->seaborn) (25.0)\n",
      "Requirement already satisfied: pillow>=8 in c:\\users\\chris\\miniconda3\\envs\\udla-ia\\lib\\site-packages (from matplotlib!=3.6.1,>=3.4->seaborn) (11.1.0)\n",
      "Requirement already satisfied: pyparsing>=2.3.1 in c:\\users\\chris\\miniconda3\\envs\\udla-ia\\lib\\site-packages (from matplotlib!=3.6.1,>=3.4->seaborn) (3.2.0)\n",
      "Requirement already satisfied: python-dateutil>=2.7 in c:\\users\\chris\\miniconda3\\envs\\udla-ia\\lib\\site-packages (from matplotlib!=3.6.1,>=3.4->seaborn) (2.9.0.post0)\n",
      "Requirement already satisfied: pytz>=2020.1 in c:\\users\\chris\\miniconda3\\envs\\udla-ia\\lib\\site-packages (from pandas>=1.2->seaborn) (2025.2)\n",
      "Requirement already satisfied: tzdata>=2022.7 in c:\\users\\chris\\miniconda3\\envs\\udla-ia\\lib\\site-packages (from pandas>=1.2->seaborn) (2025.2)\n",
      "Requirement already satisfied: six>=1.5 in c:\\users\\chris\\miniconda3\\envs\\udla-ia\\lib\\site-packages (from python-dateutil>=2.7->matplotlib!=3.6.1,>=3.4->seaborn) (1.17.0)\n",
      "Requirement already satisfied: scikit-learn in c:\\users\\chris\\miniconda3\\envs\\udla-ia\\lib\\site-packages (1.7.2)\n",
      "Requirement already satisfied: numpy>=1.22.0 in c:\\users\\chris\\miniconda3\\envs\\udla-ia\\lib\\site-packages (from scikit-learn) (2.0.1)\n",
      "Requirement already satisfied: scipy>=1.8.0 in c:\\users\\chris\\miniconda3\\envs\\udla-ia\\lib\\site-packages (from scikit-learn) (1.16.0)\n",
      "Requirement already satisfied: joblib>=1.2.0 in c:\\users\\chris\\miniconda3\\envs\\udla-ia\\lib\\site-packages (from scikit-learn) (1.5.2)\n",
      "Requirement already satisfied: threadpoolctl>=3.1.0 in c:\\users\\chris\\miniconda3\\envs\\udla-ia\\lib\\site-packages (from scikit-learn) (3.6.0)\n",
      "Requirement already satisfied: joblib in c:\\users\\chris\\miniconda3\\envs\\udla-ia\\lib\\site-packages (1.5.2)\n",
      "Requirement already satisfied: scipy in c:\\users\\chris\\miniconda3\\envs\\udla-ia\\lib\\site-packages (1.16.0)\n",
      "Requirement already satisfied: numpy<2.6,>=1.25.2 in c:\\users\\chris\\miniconda3\\envs\\udla-ia\\lib\\site-packages (from scipy) (2.0.1)\n"
     ]
    }
   ],
   "source": [
    "# Instalar dependencias\n",
    "!pip install numpy\n",
    "!pip install pandas\n",
    "!pip install matplotlib\n",
    "!pip install seaborn\n",
    "!pip install scikit-learn\n",
    "!pip install joblib\n",
    "!pip install scipy\n",
    "# !pip install nbstripout\n",
    "# !pip install jupytext"
   ]
  },
  {
   "cell_type": "code",
   "execution_count": 2,
   "id": "fac71685",
   "metadata": {},
   "outputs": [],
   "source": [
    "import numpy as np # linear algebra\n",
    "import pandas as pd # data processing, CSV file I/O (e.g. pd.read_csv)\n",
    "import os\n",
    "from IPython.core.interactiveshell import InteractiveShell\n",
    "InteractiveShell.ast_node_interactivity = \"all\"\n",
    "import math\n",
    "import json\n",
    "import time\n",
    "import matplotlib.pyplot as plt\n",
    "import seaborn as sns\n",
    "from sklearn.metrics.pairwise import cosine_similarity\n",
    "from sklearn.model_selection import train_test_split\n",
    "from sklearn.neighbors import NearestNeighbors\n",
    "import joblib\n",
    "import scipy.sparse\n",
    "from scipy.sparse import csr_matrix\n",
    "from scipy.sparse.linalg import svds\n",
    "import warnings; warnings.simplefilter('ignore')\n",
    "%matplotlib inline\n"
   ]
  },
  {
   "cell_type": "code",
   "execution_count": 3,
   "id": "cea317a8",
   "metadata": {},
   "outputs": [
    {
     "data": {
      "text/html": [
       "<div>\n",
       "<style scoped>\n",
       "    .dataframe tbody tr th:only-of-type {\n",
       "        vertical-align: middle;\n",
       "    }\n",
       "\n",
       "    .dataframe tbody tr th {\n",
       "        vertical-align: top;\n",
       "    }\n",
       "\n",
       "    .dataframe thead th {\n",
       "        text-align: right;\n",
       "    }\n",
       "</style>\n",
       "<table border=\"1\" class=\"dataframe\">\n",
       "  <thead>\n",
       "    <tr style=\"text-align: right;\">\n",
       "      <th></th>\n",
       "      <th>Words</th>\n",
       "    </tr>\n",
       "  </thead>\n",
       "  <tbody>\n",
       "    <tr>\n",
       "      <th>0</th>\n",
       "      <td>Boring Consistent EasyToUse Fast Simple Useful</td>\n",
       "    </tr>\n",
       "    <tr>\n",
       "      <th>1</th>\n",
       "      <td>Boring Confusing Contradictory Difficult EasyT...</td>\n",
       "    </tr>\n",
       "    <tr>\n",
       "      <th>2</th>\n",
       "      <td>Confusing Fast Old Unattractive Useful</td>\n",
       "    </tr>\n",
       "    <tr>\n",
       "      <th>3</th>\n",
       "      <td>Complex Confusing Creative Difficult</td>\n",
       "    </tr>\n",
       "    <tr>\n",
       "      <th>4</th>\n",
       "      <td>Advanced Clean Credible Difficult Effective New</td>\n",
       "    </tr>\n",
       "  </tbody>\n",
       "</table>\n",
       "</div>"
      ],
      "text/plain": [
       "                                               Words\n",
       "0     Boring Consistent EasyToUse Fast Simple Useful\n",
       "1  Boring Confusing Contradictory Difficult EasyT...\n",
       "2             Confusing Fast Old Unattractive Useful\n",
       "3               Complex Confusing Creative Difficult\n",
       "4    Advanced Clean Credible Difficult Effective New"
      ]
     },
     "execution_count": 3,
     "metadata": {},
     "output_type": "execute_result"
    }
   ],
   "source": [
    "word_data = pd.read_csv(\"words_ux.csv\")\n",
    "\n",
    "word_data.head()"
   ]
  },
  {
   "cell_type": "code",
   "execution_count": 4,
   "id": "601f8fb7",
   "metadata": {},
   "outputs": [
    {
     "name": "stdout",
     "output_type": "stream",
     "text": [
      "<class 'pandas.core.frame.DataFrame'>\n",
      "RangeIndex: 52 entries, 0 to 51\n",
      "Data columns (total 1 columns):\n",
      " #   Column  Non-Null Count  Dtype \n",
      "---  ------  --------------  ----- \n",
      " 0   Words   52 non-null     object\n",
      "dtypes: object(1)\n",
      "memory usage: 548.0+ bytes\n"
     ]
    },
    {
     "data": {
      "text/html": [
       "<div>\n",
       "<style scoped>\n",
       "    .dataframe tbody tr th:only-of-type {\n",
       "        vertical-align: middle;\n",
       "    }\n",
       "\n",
       "    .dataframe tbody tr th {\n",
       "        vertical-align: top;\n",
       "    }\n",
       "\n",
       "    .dataframe thead th {\n",
       "        text-align: right;\n",
       "    }\n",
       "</style>\n",
       "<table border=\"1\" class=\"dataframe\">\n",
       "  <thead>\n",
       "    <tr style=\"text-align: right;\">\n",
       "      <th></th>\n",
       "      <th>Words</th>\n",
       "    </tr>\n",
       "  </thead>\n",
       "  <tbody>\n",
       "    <tr>\n",
       "      <th>count</th>\n",
       "      <td>52</td>\n",
       "    </tr>\n",
       "    <tr>\n",
       "      <th>unique</th>\n",
       "      <td>52</td>\n",
       "    </tr>\n",
       "    <tr>\n",
       "      <th>top</th>\n",
       "      <td>Boring Consistent EasyToUse Fast Simple Useful</td>\n",
       "    </tr>\n",
       "    <tr>\n",
       "      <th>freq</th>\n",
       "      <td>1</td>\n",
       "    </tr>\n",
       "  </tbody>\n",
       "</table>\n",
       "</div>"
      ],
      "text/plain": [
       "                                                 Words\n",
       "count                                               52\n",
       "unique                                              52\n",
       "top     Boring Consistent EasyToUse Fast Simple Useful\n",
       "freq                                                 1"
      ]
     },
     "execution_count": 4,
     "metadata": {},
     "output_type": "execute_result"
    },
    {
     "name": "stdout",
     "output_type": "stream",
     "text": [
      "Total registros: 52\n"
     ]
    }
   ],
   "source": [
    "word_data.info()\n",
    "word_data.describe()\n",
    "print(f\"Total registros: {len(word_data):,}\")\n"
   ]
  },
  {
   "cell_type": "code",
   "execution_count": 5,
   "id": "bdec4ed3",
   "metadata": {},
   "outputs": [
    {
     "name": "stdout",
     "output_type": "stream",
     "text": [
      "        Words\n",
      "0      Boring\n",
      "1  Consistent\n",
      "2   EasyToUse\n",
      "3        Fast\n",
      "4      Simple\n"
     ]
    }
   ],
   "source": [
    "# Separar las palabras por fila\n",
    "word_list = []\n",
    "\n",
    "for row in word_data[\"Words\"]:\n",
    "    if pd.notna(row):\n",
    "        words = row.split()\n",
    "        word_list.extend(words)\n",
    "\n",
    "# Crear nuevo DataFrame con una sola columna\n",
    "clean_df = pd.DataFrame(word_list, columns=[\"Words\"])\n",
    "\n",
    "# Mostrar las primeras filas\n",
    "print(clean_df.head())"
   ]
  },
  {
   "cell_type": "code",
   "execution_count": 6,
   "id": "6533d6c4",
   "metadata": {},
   "outputs": [
    {
     "name": "stdout",
     "output_type": "stream",
     "text": [
      "              Words\n",
      "0            Boring\n",
      "1        Consistent\n",
      "2         EasyToUse\n",
      "3              Fast\n",
      "4            Simple\n",
      "..              ...\n",
      "337   Sophisticated\n",
      "342  SystemOriented\n",
      "345   Unpredictable\n",
      "356        Engaging\n",
      "379     Distracting\n",
      "\n",
      "[84 rows x 1 columns]\n"
     ]
    }
   ],
   "source": [
    "# Eliminar duplicados\n",
    "clean_df_unique = clean_df.drop_duplicates()\n",
    "\n",
    "# Mostrar las primeras filas del resultado\n",
    "print(clean_df_unique)"
   ]
  },
  {
   "cell_type": "code",
   "execution_count": 7,
   "id": "6cfbeeaf",
   "metadata": {},
   "outputs": [
    {
     "name": "stdout",
     "output_type": "stream",
     "text": [
      "✅ No hay palabras duplicadas.\n"
     ]
    }
   ],
   "source": [
    "duplicados = clean_df_unique[clean_df_unique.duplicated()]\n",
    "if duplicados.empty:\n",
    "    print(\"✅ No hay palabras duplicadas.\")\n",
    "else:\n",
    "    print(\"⚠️ Se encontraron palabras duplicadas:\")\n",
    "    print(duplicados)\n"
   ]
  },
  {
   "cell_type": "markdown",
   "id": "f8fee241",
   "metadata": {},
   "source": [
    "## Construcción de la Document-Term Matrix (DTM)\n",
    "\n",
    "### Definición\n",
    "\n",
    "Una DTM es una matriz matemática que organiza los datos de un conjunto de documentos de la siguiente manera:\n",
    "\n",
    "- Filas: Representan cada documento individual de la colección (corpus).\n",
    "\n",
    "- Columnas: Representan los términos únicos (palabras) que aparecen en el conjunto completo de documentos.\n",
    "\n",
    "- Celdas (Valores): Contienen un valor numérico que indica la frecuencia o importancia de un término particular en un documento específico\n",
    "\n",
    "### Objetivo\n",
    "\n",
    "Su objetivo pricipal es transformar datos de texto no estructurados en un formato numérico estructurado que pueda ser analizado por algoritmos de aprendizaje automático (Machine Learning) y métodos estadísticos.\n",
    "\n",
    "\n",
    "\n",
    "Persona 2: Construcción de la Document-Term Matrix (DTM) (20%)\n",
    "Responsabilidad principal: Transformar los datos en una matriz binaria usable.\n",
    "\n",
    "Tareas específicas:\n",
    "\n",
    "Usar sklearn.feature_extraction.text.CountVectorizer(binary=True) o manualmente con pandas.\n",
    "Construir la DTM binaria (1 si la palabra está, 0 si no).\n",
    "Mostrar un fragmento de la matriz (ej. dtm.head()).\n",
    "Guardar lista de palabras únicas (vocabulary).\n",
    "Explicar por qué usamos binario (presencia/ausencia)."
   ]
  },
  {
   "cell_type": "markdown",
   "id": "3eb5a777",
   "metadata": {},
   "source": [
    "### Paso 1: Generación de la DTM Binaria\n",
    "\n",
    "Se utiliza el *DataFrame* `clean_df_unique` para constuir la *DTM*. Cada palabra en el *DataFrame* se considerará como un \"documento\" de una sola palabra para el propósito de esta transformación. "
   ]
  },
  {
   "cell_type": "code",
   "execution_count": 8,
   "id": "c00c297e",
   "metadata": {},
   "outputs": [
    {
     "name": "stdout",
     "output_type": "stream",
     "text": [
      "### Document-Term Matrix (DTM) Binaria (Fragmento) ###\n",
      "   advanced  ambiguous  attractive  boring  bright  busy  clean  clear  \\\n",
      "0         0          0           0       1       0     0      0      0   \n",
      "1         0          0           0       0       0     0      0      0   \n",
      "2         0          0           0       0       0     0      0      0   \n",
      "3         0          0           0       0       0     0      0      0   \n",
      "4         0          0           0       0       0     0      0      0   \n",
      "\n",
      "   complex  comprehensive  ...  trustworthy  unattractive  unconventional  \\\n",
      "0        0              0  ...            0             0               0   \n",
      "1        0              0  ...            0             0               0   \n",
      "2        0              0  ...            0             0               0   \n",
      "3        0              0  ...            0             0               0   \n",
      "4        0              0  ...            0             0               0   \n",
      "\n",
      "   understandable  unpredictable  unrefined  usable  use  useful  vague  \n",
      "0               0              0          0       0    0       0      0  \n",
      "1               0              0          0       0    0       0      0  \n",
      "2               0              0          0       0    0       0      0  \n",
      "3               0              0          0       0    0       0      0  \n",
      "4               0              0          0       0    0       0      0  \n",
      "\n",
      "[5 rows x 89 columns]\n",
      "\n",
      "### Vocabulario (Palabras Únicas) ###\n",
      "Total de palabras en el vocabulario: 89\n",
      "['advanced' 'ambiguous' 'attractive' 'boring' 'bright']\n"
     ]
    }
   ],
   "source": [
    "import pandas as pd\n",
    "from sklearn.feature_extraction.text import CountVectorizer\n",
    "\n",
    "vectorizer = CountVectorizer(binary=True)\n",
    "\n",
    "dtm_sparse = vectorizer.fit_transform(clean_df_unique['Words'])\n",
    "\n",
    "# Convertir la matriz dispersa (sparse) a un DataFrame para una mejor visualización\n",
    "dtm = pd.DataFrame(\n",
    "    dtm_sparse.toarray(),\n",
    "    columns=vectorizer.get_feature_names_out()\n",
    ")\n",
    "\n",
    "# Se muestra un fragmento de la matriz\n",
    "print(\"### Document-Term Matrix (DTM) Binaria (Fragmento) ###\")\n",
    "print(dtm.head())\n",
    "\n",
    "# Se guarda la lista de palabras únicas (vocabulary)\n",
    "vocabulary = vectorizer.get_feature_names_out()\n",
    "print(f\"\\n### Vocabulario (Palabras Únicas) ###\")\n",
    "print(f\"Total de palabras en el vocabulario: {len(vocabulary)}\")\n",
    "print(vocabulary[:5]) # Se muestran las primeras 5 palabras"
   ]
  }
 ],
 "metadata": {
  "kernelspec": {
   "display_name": "udla-ia",
   "language": "python",
   "name": "python3"
  },
  "language_info": {
   "codemirror_mode": {
    "name": "ipython",
    "version": 3
   },
   "file_extension": ".py",
   "mimetype": "text/x-python",
   "name": "python",
   "nbconvert_exporter": "python",
   "pygments_lexer": "ipython3",
   "version": "3.12.11"
  }
 },
 "nbformat": 4,
 "nbformat_minor": 5
}
